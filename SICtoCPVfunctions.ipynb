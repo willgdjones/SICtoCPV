{
 "cells": [
  {
   "cell_type": "markdown",
   "metadata": {},
   "source": [
    "This is best explained I think with an example. Given a company with SIC codes ****, which CPV codes are most relevant to this company? "
   ]
  },
  {
   "cell_type": "markdown",
   "metadata": {},
   "source": [
    "# Import modules"
   ]
  },
  {
   "cell_type": "code",
   "execution_count": 18,
   "metadata": {
    "collapsed": true
   },
   "outputs": [],
   "source": [
    "import json\n",
    "from datetime import datetime, timedelta\n",
    "from requests.auth import HTTPBasicAuth\n",
    "import requests\n",
    "import pandas as pd\n",
    "import nltk\n",
    "nltk.data.path = ['./nltk_data']\n",
    "import re\n",
    "import string\n",
    "import itertools\n",
    "import numpy as np"
   ]
  },
  {
   "cell_type": "markdown",
   "metadata": {},
   "source": [
    "# Helper functions"
   ]
  },
  {
   "cell_type": "markdown",
   "metadata": {},
   "source": [
    "### Pad out SIC codes"
   ]
  },
  {
   "cell_type": "markdown",
   "metadata": {},
   "source": [
    "Pad CPV prefixes out with zeros to be length 8."
   ]
  },
  {
   "cell_type": "code",
   "execution_count": 2,
   "metadata": {
    "collapsed": true
   },
   "outputs": [],
   "source": [
    "def pad(cpv):\n",
    "    if len(cpv) > 8:\n",
    "        raise Exception('CPV too long')\n",
    "    cpv += '0'* (8 - len(cpv))\n",
    "    return cpv\n",
    "    "
   ]
  },
  {
   "cell_type": "markdown",
   "metadata": {},
   "source": [
    "### Tokenize CPV descriptions"
   ]
  },
  {
   "cell_type": "markdown",
   "metadata": {},
   "source": [
    "Remove punctuation marks from CPV descriptions, and set to lowercase.\n",
    "\n",
    "`tokenize('Agricultural, farming, fishing, forestry and related products')`\n",
    "\n",
    "`-> agricultural farming fishing forestry and related products`\n",
    "\n"
   ]
  },
  {
   "cell_type": "code",
   "execution_count": 3,
   "metadata": {
    "collapsed": true
   },
   "outputs": [],
   "source": [
    "def tokenise(s):\n",
    "    exclude = set(string.punctuation)\n",
    "    regex = re.compile('[%s]' % re.escape(string.punctuation))\n",
    "    return re.sub(regex,\"\",s).lower()\n"
   ]
  },
  {
   "cell_type": "markdown",
   "metadata": {},
   "source": [
    "# Load CPV and SIC codes databases"
   ]
  },
  {
   "cell_type": "code",
   "execution_count": 4,
   "metadata": {
    "collapsed": false
   },
   "outputs": [],
   "source": [
    "cabinet_api_key='o0NNKWxzI6D_JvHlDYo9Pa1l05eqnXvPwaxtk8Nx'\n",
    "\n",
    "sic_codes = pd.read_csv('sic_codes.csv')\n",
    "cpv_codes = pd.read_excel('cpv_2008_ver_2013.xlsx')\n",
    "cpv_codes = cpv_codes[['CODE','EN']]\n",
    "cpv_codes['CODE'] = cpv_codes['CODE'].apply(lambda x: x.split('-')[0])\n",
    "sic_codes['tokenised_description'] = sic_codes['description'].apply(tokenise)\n",
    "\n"
   ]
  },
  {
   "cell_type": "markdown",
   "metadata": {},
   "source": [
    "# Core functions"
   ]
  },
  {
   "cell_type": "markdown",
   "metadata": {},
   "source": [
    "### Get keywords "
   ]
  },
  {
   "cell_type": "markdown",
   "metadata": {},
   "source": [
    "Get the keywords from a given SIC code title, pulling out all the different types of verbs, nouns and adjectives.\n",
    "\n",
    "`get_keywords('Repair of furniture and home furnishings') -> ['Repair', 'furniture', 'home', 'furnishings']`"
   ]
  },
  {
   "cell_type": "code",
   "execution_count": 5,
   "metadata": {
    "collapsed": true
   },
   "outputs": [],
   "source": [
    "def get_keywords(company_sic_title):\n",
    "    \"\"\"\n",
    "    Get the keywords from a SIC-title. Pulls out all types of nouns, verbs and adjectives, according to\n",
    "    the nltk UPENN tagset. [https://www.ling.upenn.edu/courses/Fall_2003/ling001/penn_treebank_pos.html]\n",
    "    \n",
    "    No stemming (e.g. repairing -> repair) as of yet, neither does it handle exclusions. e.g. (Growing of\n",
    "    vegtables EXCEPT rice).\n",
    "    \"\"\"\n",
    "    tagged = nltk.pos_tag(company_sic_title.lower().split(' '))\n",
    "    \n",
    "    return [x[0] for x in tagged if x[1] in ['VBG','VB','VBD','VBN','VBP','VBZ','NNS', 'NN','NNP','NNPS','NNS','JJ','JJR','JJS'] ]"
   ]
  },
  {
   "cell_type": "markdown",
   "metadata": {},
   "source": [
    "### Lookup SIC title"
   ]
  },
  {
   "cell_type": "markdown",
   "metadata": {},
   "source": [
    "Return the title description of a SIC codes, from the SIC code database\n",
    "\n",
    "`lookup_sic_title('95240') -> 'Repair of furniture and home furnishings'`"
   ]
  },
  {
   "cell_type": "code",
   "execution_count": 6,
   "metadata": {
    "collapsed": true
   },
   "outputs": [],
   "source": [
    "def lookup_sic_title(sic_code):\n",
    "    \"\"\"Lookup the title of a given SIC code from the SIC codes database\"\"\"\n",
    "    assert isinstance(sic_codes,pd.DataFrame)\n",
    "    if sic_code == '':\n",
    "        return None \n",
    "    int_sic_code = int(sic_code)\n",
    "    return list(sic_codes[sic_codes['code'] == int_sic_code]['description'])[0]\n"
   ]
  },
  {
   "cell_type": "markdown",
   "metadata": {},
   "source": [
    "### Get CPV list"
   ]
  },
  {
   "cell_type": "markdown",
   "metadata": {},
   "source": [
    "Get the CPVs hightlighted from a list of keywords. Returns a list of lists of CPV codes equal to the number of keywords.\n",
    "\n",
    "`get_cpvs(['repair', 'furniture', 'home', 'furnishings']) ->`\n",
    "\n",
    "`[[u'37414300',  u'44113700',  u'50860000',  ...  u'50884000',  u'72267000',  u'72267200'], [u'30000000', u'30100000',  u'39161000',  ...  u'45421153',  u'50850000',  u'79934000'], [u'34144800',  u'38561110',  u'45215212',  ...  u'85312200',  u'98513310'], [u'39000000', u'39143110', u'39143113', u'39516100']]`"
   ]
  },
  {
   "cell_type": "code",
   "execution_count": 7,
   "metadata": {
    "collapsed": true
   },
   "outputs": [],
   "source": [
    "### Get CPV codes\n",
    "def get_cpv_list(keywords):\n",
    "    \"\"\"\n",
    "    For a given set of keywords, return the sets of CPVs that are highlighted.\n",
    "    \"\"\"\n",
    "    tot = []\n",
    "    for kw in keywords:\n",
    "        #Get the CPVs highlighted from a given keyword.\n",
    "        kw_cpvs = list(cpv_codes[cpv_codes['EN'].apply(tokenise).apply(lambda x: kw in x)]['CODE'])        \n",
    "        tot.append(kw_cpvs)\n",
    "    return tot\n",
    "\n"
   ]
  },
  {
   "cell_type": "markdown",
   "metadata": {},
   "source": [
    "### Get CPV prefix sets"
   ]
  },
  {
   "cell_type": "markdown",
   "metadata": {
    "collapsed": true
   },
   "source": [
    "For list of CPVs, return all the unique prefixes of the CPVs.\n",
    "\n",
    "`create_cpv_sets([[u'44113700', u'44167200']]) -> [{u'44', u'441', u'4411', u'44113', u'441137', u'4416', u'44167', u'441672'}]`"
   ]
  },
  {
   "cell_type": "code",
   "execution_count": 8,
   "metadata": {
    "collapsed": false
   },
   "outputs": [],
   "source": [
    "def get_cpv_prefixes(cpv_list):\n",
    "    cpv_sets = []\n",
    "\n",
    "    for l in cpv_list:\n",
    "        cpvs = []\n",
    "        for c in l:\n",
    "            for i in range(2,9):\n",
    "                cpvs.append(c[0:i])\n",
    "        cpvs = [x.rstrip('0') for x in cpvs]\n",
    "        cpv_sets.append(set(cpvs))\n",
    "    return cpv_sets\n"
   ]
  },
  {
   "cell_type": "markdown",
   "metadata": {},
   "source": [
    "### Create intersection lists"
   ]
  },
  {
   "cell_type": "markdown",
   "metadata": {},
   "source": [
    "For a list of CPV prefix sets, get the frequencies of how often they appear in different cpv_sets.\n",
    "\n",
    "`get_intersection_frequencies([set(['37','375']), set(['37', '42'])]) -> {'37': 2, '375': 1, '42': 1}`"
   ]
  },
  {
   "cell_type": "code",
   "execution_count": 9,
   "metadata": {
    "collapsed": false
   },
   "outputs": [],
   "source": [
    "def get_intersection_frequencies(cpv_prefixes):\n",
    "    \n",
    "    intersection_lists = []\n",
    "    for s in range(1,len(cpv_prefixes)+1):\n",
    "        for i in itertools.combinations(range(0,len(cpv_prefixes)),s):\n",
    "            intersection_lists.append([i, list(set.intersection(*[cpv_prefixes[j] for j in i]))])\n",
    "    intersection_frequencies = {}\n",
    "\n",
    "    for l, interscts in intersection_lists:\n",
    "        for i in interscts:\n",
    "            if i in intersection_frequencies:\n",
    "                if len(l) > intersection_frequencies[i]:\n",
    "                    intersection_frequencies[i] = len(l)\n",
    "            else:\n",
    "                intersection_frequencies[i] = len(l)\n",
    "                \n",
    "    return intersection_frequencies"
   ]
  },
  {
   "cell_type": "markdown",
   "metadata": {},
   "source": [
    "### Score CPV codes"
   ]
  },
  {
   "cell_type": "markdown",
   "metadata": {},
   "source": [
    "Given the frequency of a CPV codes, combine this with it' specificity to give it a score."
   ]
  },
  {
   "cell_type": "code",
   "execution_count": 10,
   "metadata": {
    "collapsed": true
   },
   "outputs": [],
   "source": [
    "def get_cpv_scores(intersection_frequencies):\n",
    "    \n",
    "    cpv_scores = {}\n",
    "    for k,v in intersection_frequencies.items():\n",
    "        intersection_frequency = v\n",
    "        specificity = len(k)\n",
    "        cpv_scores[k] = scoring_heuristic(intersection_frequency, specificity)\n",
    "\n",
    "    return cpv_scores"
   ]
  },
  {
   "cell_type": "markdown",
   "metadata": {},
   "source": [
    "### Get top CPVs "
   ]
  },
  {
   "cell_type": "markdown",
   "metadata": {},
   "source": [
    "Return the list of CPVs ordered by their scores"
   ]
  },
  {
   "cell_type": "code",
   "execution_count": 11,
   "metadata": {
    "collapsed": true
   },
   "outputs": [],
   "source": [
    "def get_top_CPVs(cpv_scores):\n",
    "    top_cpvs = [ (k,v) for (k,v) in cpv_scores.items() ]\n",
    "    top_cpvs.sort(key=lambda x: x[1], reverse=True)\n",
    "    return top_cpvs\n"
   ]
  },
  {
   "cell_type": "markdown",
   "metadata": {},
   "source": [
    "### Scoring heuristic "
   ]
  },
  {
   "cell_type": "markdown",
   "metadata": {},
   "source": [
    "The scoring heurstic is the key component of this process. Given a cpv codes with a known intersection_frequency and specificity, what score should we give it? How important is it that it is specific, and how important is it that it is highlighted by multiple keywords? Right now I just multiply them together :o)."
   ]
  },
  {
   "cell_type": "code",
   "execution_count": 12,
   "metadata": {
    "collapsed": true
   },
   "outputs": [],
   "source": [
    "def scoring_heuristic(intersection_frequency, specificity):\n",
    "    return intersection_frequency * specificity\n",
    "    "
   ]
  },
  {
   "cell_type": "markdown",
   "metadata": {},
   "source": [
    "### Add CPV titles"
   ]
  },
  {
   "cell_type": "markdown",
   "metadata": {},
   "source": [
    "Add the titles of a list of CPV codes"
   ]
  },
  {
   "cell_type": "code",
   "execution_count": 13,
   "metadata": {
    "collapsed": false
   },
   "outputs": [],
   "source": [
    "def add_cpv_titles(top_cpvs):\n",
    "    \n",
    "    cpv_titles = [cpv_codes[cpv_codes['CODE'] == pad(cpv[0])]['EN'].values[0] for cpv in top_cpvs]\n",
    "    return [(cpv_titles[i],) + top_cpvs[i] for i in range(len(top_cpvs))]"
   ]
  },
  {
   "cell_type": "code",
   "execution_count": 14,
   "metadata": {
    "collapsed": true
   },
   "outputs": [],
   "source": [
    "def SICtoCPV(sic_code):\n",
    "    \n",
    "    company_sic_title = lookup_sic_title(sic_code)\n",
    "\n",
    "    keywords = get_keywords(company_sic_title)\n",
    "\n",
    "    cpv_list = get_cpv_list(keywords)\n",
    "\n",
    "    cpv_prefixes = get_cpv_prefixes(cpv_list)\n",
    "\n",
    "    intersection_frequencies = get_intersection_frequencies(cpv_prefixes)\n",
    "\n",
    "    cpv_scores = get_cpv_scores(intersection_frequencies)\n",
    "\n",
    "    top_cpvs = get_top_CPVs(cpv_scores)\n",
    "\n",
    "    top_cpvs = add_cpv_titles(top_cpvs)\n",
    "    \n",
    "    return [(sic_code, company_sic_title), top_cpvs]"
   ]
  },
  {
   "cell_type": "code",
   "execution_count": 19,
   "metadata": {
    "collapsed": false
   },
   "outputs": [
    {
     "data": {
      "text/plain": [
       "[(95240, 'Repair of furniture and home furnishings'),\n",
       " [(u'Repair and maintenance services of tachometers', u'504114', 12),\n",
       "  (u'Bedroom furniture', u'391431', 12),\n",
       "  (u'Construction, foundation and surface works for highways, roads',\n",
       "   u'45233',\n",
       "   10),\n",
       "  (u'Bedroom, dining room and living-room furniture', u'39143', 10),\n",
       "  (u'Repair and maintenance services of measuring apparatus', u'50411', 10),\n",
       "  (u'Works for complete or part construction and civil engineering work',\n",
       "   u'452',\n",
       "   9),\n",
       "  (u'Home for the psychologically disturbed services', u'85121271', 8),\n",
       "  (u\"Children's home construction work\", u'45215215', 8),\n",
       "  (u'Repair and maintenance services of measuring, testing and checking apparatus',\n",
       "   u'5041',\n",
       "   8),\n",
       "  (u'Installation of built-in furniture', u'45421153', 8),\n",
       "  (u'Domestic furniture', u'3914', 8),\n",
       "  (u'Building construction work', u'4521', 8),\n",
       "  (u'Retirement home construction work', u'45215212', 8),\n",
       "  (u'Residential homes construction work', u'45215214', 8),\n",
       "  (u'Repair work on sports fields', u'45236119', 8),\n",
       "  (u'Repair and maintenance services of furniture', u'5085', 8),\n",
       "  (u'Aircraft-engine repair services', u'50211212', 8),\n",
       "  (u'Installation of street furniture', u'45233293', 8),\n",
       "  (u'Construction work for pipelines, communication and power lines, for highways, roads, airfields and railways; flatwork',\n",
       "   u'4523',\n",
       "   8),\n",
       "  (u'Specialist soft furnishings', u'39143113', 8),\n",
       "  (u'Dialysis home medical treatment services', u'85141211', 8),\n",
       "  (u'Road-repair works', u'45233142', 8),\n",
       "  (u'Nursing home construction work', u'45215213', 8),\n",
       "  (u'Roadworks', u'4523314', 7),\n",
       "  (u'Repair of mainframe computers', u'5031212', 7),\n",
       "  (u'Concrete repair work', u'4526233', 7),\n",
       "  (u'Operating theatre furniture except tables', u'3319234', 7),\n",
       "  (u'Roof repair', u'4526191', 7),\n",
       "  (u'Repair of data network equipment', u'5031232', 7),\n",
       "  (u'Repair of minicomputers', u'5031222', 7),\n",
       "  (u'Repair and maintenance services of aircraft engines', u'5021121', 7),\n",
       "  (u'Repair work on recreational areas', u'4523629', 7),\n",
       "  (u'Installation of road signs', u'4523329', 7),\n",
       "  (u'Psychiatrist or psychologist services', u'8512127', 7),\n",
       "  (u'Repair and maintenance services of telephone sets', u'5033414', 7),\n",
       "  (u'Bedroom furniture, other than beds and beddings', u'3914312', 7),\n",
       "  (u'Beds and bedding and specialist soft furnishings', u'3914311', 7),\n",
       "  (u'Tachometers', u'3856111', 7),\n",
       "  (u'Repair of microcomputers', u'5031242', 7),\n",
       "  (u'Non-metal joinery installation work', u'4542115', 7),\n",
       "  (u'Furniture locks', u'4452114', 7),\n",
       "  (u'Repair and maintenance work in connection with sports facilities',\n",
       "   u'4521229',\n",
       "   7),\n",
       "  (u'Repair and maintenance services of telephone switching apparatus',\n",
       "   u'5033413',\n",
       "   7),\n",
       "  (u'Construction work for subsidised residential accommodation',\n",
       "   u'4521521',\n",
       "   7),\n",
       "  (u'Body-repair services for vehicles', u'5011211', 7),\n",
       "  (u'Flatwork for sports fields', u'4523611', 7),\n",
       "  (u'Repair of information technology equipment', u'5031262', 7),\n",
       "  (u'Home medical treatment services', u'8514121', 7),\n",
       "  (u'Home-help services', u'9851331', 7),\n",
       "  (u'Car repair services', u'501121', 6),\n",
       "  (u'Maintenance and repair of information technology equipment',\n",
       "   u'503126',\n",
       "   6),\n",
       "  (u'Maintenance and repair of data network equipment', u'503123', 6),\n",
       "  (u'Maintenance and repair of minicomputers', u'503122', 6),\n",
       "  (u'Repair and maintenance services of radio transmitters', u'503331', 6),\n",
       "  (u'Road-repair materials', u'441137', 6),\n",
       "  (u'Repair and maintenance services of liquid pumps', u'505111', 6),\n",
       "  (u'Repair and maintenance services of gas pumps', u'505112', 6),\n",
       "  (u'Repair and maintenance services of transformers', u'505322', 6),\n",
       "  (u'Repair and maintenance services of line telex equipment', u'503343', 6),\n",
       "  (u'Repair and maintenance services of line telegraphy equipment',\n",
       "   u'503342',\n",
       "   6),\n",
       "  (u'Repair and maintenance services of line telephony equipment',\n",
       "   u'503341',\n",
       "   6),\n",
       "  (u'Tent repair kits', u'374143', 6),\n",
       "  (u'Repair and maintenance services of industrial time-measuring equipment',\n",
       "   u'504115',\n",
       "   6),\n",
       "  (u'Urban furniture', u'349284', 6),\n",
       "  (u'Maintenance and repair of mainframe computers', u'503121', 6),\n",
       "  (u'Repair and maintenance services of wheelchairs', u'504211', 6),\n",
       "  (u'Repair and maintenance services of X-ray equipment', u'504212', 6),\n",
       "  (u'Homedelivery of provisions', u'853122', 6),\n",
       "  (u'Services provided by nurses', u'851412', 6),\n",
       "  (u'Repair clamps and collars', u'441672', 6),\n",
       "  (u'Modular furniture', u'391513', 6),\n",
       "  (u'Concrete work', u'452623', 6),\n",
       "  (u'Installation of doors and windows and related components', u'454211', 6),\n",
       "  (u'Repair of computer peripherals', u'503232', 6),\n",
       "  (u'Repair and maintenance services of compressors', u'505313', 6),\n",
       "  (u'Construction work for sports facilities', u'452122', 6),\n",
       "  (u'Furniture', u'391', 6),\n",
       "  (u'Roof repair and maintenance work', u'452619', 6),\n",
       "  (u'Speed indicators for vehicles', u'385611', 6),\n",
       "  (u'Soft furnishings', u'395161', 6),\n",
       "  (u'Repair and maintenance services of television transmitters',\n",
       "   u'503412',\n",
       "   6),\n",
       "  (u'Repair and maintenance services of videotext equipment', u'503411', 6),\n",
       "  (u'Repair and maintenance services of dampers', u'502221', 6),\n",
       "  (u'Heating-plant repair and maintenance work', u'452593', 6),\n",
       "  (u'Purification-plant repair and maintenance work', u'452592', 6),\n",
       "  (u'Wastewater-plant repair and maintenance work', u'452591', 6),\n",
       "  (u'Vessel repair services', u'502411', 6),\n",
       "  (u'Ferry repair services', u'502412', 6),\n",
       "  (u'Dining-room furniture', u'391432', 6),\n",
       "  (u'Living-room furniture', u'391433', 6),\n",
       "  (u'Repair and maintenance services of cranes', u'505314', 6),\n",
       "  (u'Various surface works', u'452332', 6),\n",
       "  (u'Construction work for highways, roads', u'452331', 6),\n",
       "  (u'Repair and maintenance services of boilers', u'505311', 6),\n",
       "  (u'Locks', u'445211', 6),\n",
       "  (u'Repair and maintenance services of derricks', u'505315', 6),\n",
       "  (u'Maintenance and repair of microcomputers', u'503124', 6),\n",
       "  (u'Photocopier repair services', u'503131', 6),\n",
       "  (u'Tyre repair services, including fitting and balancing', u'501165', 6),\n",
       "  (u'Repair and maintenance services of vehicle transmissions', u'501164', 6),\n",
       "  (u'Repair and maintenance services of starter motors', u'501166', 6),\n",
       "  (u'Electrical-system repair services', u'501161', 6),\n",
       "  (u'Repair and maintenance services of vehicle gearboxes', u'501163', 6),\n",
       "  (u'Repair and maintenance services of vehicle brakes and brake parts',\n",
       "   u'501162',\n",
       "   6),\n",
       "  (u'Miscellaneous repair and maintenance services', u'508', 6),\n",
       "  (u'Maintenance and repair of calculators and accounting machinery',\n",
       "   u'503114',\n",
       "   6),\n",
       "  (u'Temporary staff for households', u'985133', 6),\n",
       "  (u'Sleeving repair services', u'505143', 6),\n",
       "  (u'Repair and maintenance services of reservoirs', u'505142', 6),\n",
       "  (u'Repair and maintenance services of tanks', u'505141', 6),\n",
       "  (u'Repair and maintenance services of water meters', u'504111', 6),\n",
       "  (u'Motorcycle repair services', u'501151', 6),\n",
       "  (u'Mobile homes', u'341448', 6),\n",
       "  (u'Repair and maintenance services of medical and precision equipment',\n",
       "   u'504',\n",
       "   6),\n",
       "  (u'Medical furniture except beds and tables', u'331923', 6),\n",
       "  (u'Repair and maintenance services of locomotive brakes and brake parts',\n",
       "   u'502214',\n",
       "   6),\n",
       "  (u'Repair and maintenance services of photographic equipment', u'503441', 6),\n",
       "  (u'Repair and maintenance services of cinematographic equipment',\n",
       "   u'503442',\n",
       "   6),\n",
       "  (u'Truck repair services', u'501141', 6),\n",
       "  (u'Aircraft repair services', u'502112', 6),\n",
       "  (u'Home delivery of incontinence products', u'851424', 6),\n",
       "  (u'Homeopathic services', u'851422', 6),\n",
       "  (u'Repair and maintenance services of generators', u'505323', 6),\n",
       "  (u'Repair and maintenance services of electric motors', u'505321', 6),\n",
       "  (u'Repair and maintenance services of electrical distribution equipment',\n",
       "   u'505324',\n",
       "   6),\n",
       "  (u'Construction work', u'45', 6),\n",
       "  (u'Flatwork for miscellaneous sports installations', u'452361', 6),\n",
       "  (u'Repair and maintenance services of gas meters', u'504112', 6),\n",
       "  (u'Repair and maintenance services of firefighting equipment', u'504132', 6),\n",
       "  (u'Repair of information technology software', u'722672', 6),\n",
       "  (u'Bus repair services', u'501131', 6),\n",
       "  (u'Repair and maintenance services of locomotive transmissions',\n",
       "   u'502212',\n",
       "   6),\n",
       "  (u'Repair and maintenance services of locomotive wheelsets', u'502213', 6),\n",
       "  (u'Repair and maintenance services of locomotive gearboxes', u'502211', 6),\n",
       "  (u'Repair and maintenance services of gas-detection equipment',\n",
       "   u'504131',\n",
       "   6),\n",
       "  (u'Medical specialist services', u'851212', 6),\n",
       "  (u'Repair and maintenance services of electricity meters', u'504113', 6),\n",
       "  (u'Repair and maintenance services of floating structures', u'502463', 6),\n",
       "  (u'Repair and maintenance services of floating platforms', u'502464', 6),\n",
       "  (u'Flatwork for recreation installations', u'452362', 6),\n",
       "  (u'Repair and maintenance services of radiotelephony apparatus',\n",
       "   u'503332',\n",
       "   6),\n",
       "  (u'Construction work for social services buildings', u'452152', 6),\n",
       "  (u'Repair and maintenance services of catering equipment', u'50883', 5),\n",
       "  (u'Flatwork', u'45236', 5),\n",
       "  (u'Road furniture', u'34928', 5),\n",
       "  (u'Harbour equipment maintenance services', u'50246', 5),\n",
       "  (u'Repair and maintenance services of electrical building installations',\n",
       "   u'50711',\n",
       "   5),\n",
       "  (u'Repair and maintenance services of mechanical building installations',\n",
       "   u'50712',\n",
       "   5),\n",
       "  (u'Repair and maintenance services of ships', u'50241', 5),\n",
       "  (u'Repair services of shoes', u'50822', 5),\n",
       "  (u'Repair services of boots', u'50821', 5),\n",
       "  (u'Repair and maintenance services of restaurant equipment', u'50882', 5),\n",
       "  (u'Repair and maintenance services of camping equipment', u'50884', 5),\n",
       "  (u'Road-construction materials', u'44113', 5),\n",
       "  (u'Repair and maintenance of plant', u'45259', 5),\n",
       "  (u'Repair and maintenance services of valves', u'50512', 5),\n",
       "  (u'Social work services without accommodation', u'85312', 5),\n",
       "  (u'Joinery work', u'45421', 5),\n",
       "  (u'Medical practice services', u'85121', 5),\n",
       "  (u'Special-purpose motor vehicles', u'34144', 5),\n",
       "  (u'Holiday home services', u'55242', 5),\n",
       "  (u'Construction work for buildings relating to leisure, sports, culture, lodging and restaurants',\n",
       "   u'45212',\n",
       "   5),\n",
       "  (u'Construction work for buildings relating to health and social services, for crematoriums and public conveniences',\n",
       "   u'45215',\n",
       "   5),\n",
       "  (u'Furniture design services', u'79934', 5),\n",
       "  (u'Repair and maintenance services of optical equipment', u'50344', 5),\n",
       "  (u'Repair and maintenance services of video equipment', u'50343', 5),\n",
       "  (u'Repair and maintenance services of television equipment', u'50341', 5),\n",
       "  (u'Repair and maintenance services of pumps', u'50511', 5),\n",
       "  (u'Repair and maintenance services of medical equipment', u'50421', 5),\n",
       "  (u'Kindergarten furniture', u'39161', 5),\n",
       "  (u'Repair and maintenance services of checking apparatus', u'50413', 5),\n",
       "  (u'Software maintenance and repair services', u'72267', 5),\n",
       "  (u'Repair and maintenance services of locomotives', u'50221', 5),\n",
       "  (u'Repair and maintenance services of aircraft', u'50211', 5),\n",
       "  (u'Repair and maintenance services of helicopters', u'50212', 5),\n",
       "  (u'Parts of furniture', u'39157', 5),\n",
       "  (u'Lounge and reception-area furniture', u'39156', 5),\n",
       "  (u'Conference-room furniture', u'39153', 5),\n",
       "  (u'Miscellaneous furniture', u'39151', 5),\n",
       "  (u'Repair and maintenance services of cars', u'50112', 5),\n",
       "  (u'Repair and maintenance services of buses', u'50113', 5),\n",
       "  (u'Fleet management, repair and maintenance services', u'50111', 5),\n",
       "  (u'Maintenance and repair services related to specific parts of vehicles',\n",
       "   u'50116',\n",
       "   5),\n",
       "  (u'Repair and maintenance services of trucks', u'50114', 5),\n",
       "  (u'Camping goods', u'37414', 5),\n",
       "  (u'Kitchen furniture and equipment', u'39141', 5),\n",
       "  (u'Garden furniture', u'39142', 5),\n",
       "  (u'Bathroom furniture', u'39144', 5),\n",
       "  (u'Manpower services for households', u'98513', 5),\n",
       "  (u'Repair services of personal computers', u'50321', 5),\n",
       "  (u'Maintenance and repair of computer peripherals', u'50323', 5),\n",
       "  (u'Repair and maintenance services of audio equipment', u'50342', 5),\n",
       "  (u'Maintenance services of radio-communications equipment', u'50333', 5),\n",
       "  (u'Repair and maintenance services of metal containers', u'50514', 5),\n",
       "  (u'Repair and maintenance services of taps', u'50513', 5),\n",
       "  (u'Maintenance and repair of ticket-validation machinery', u'50317', 5),\n",
       "  (u'Repair and maintenance services of testing apparatus', u'50412', 5),\n",
       "  (u'Repair and maintenance services of line telephony and line telegraphy equipment',\n",
       "   u'50334',\n",
       "   5),\n",
       "  (u'Computer furniture', u'39134', 5),\n",
       "  (u'Repair and maintenance services of telecommunications lines',\n",
       "   u'50331',\n",
       "   5),\n",
       "  (u'Various pipe fittings', u'44167', 5),\n",
       "  (u'Office equipment except furniture', u'30191', 5),\n",
       "  (u'Maintenance and repair of office accounting machinery', u'50311', 5),\n",
       "  (u'Repair and maintenance services of rolling stock', u'50222', 5),\n",
       "  (u'Repair and maintenance services for non-electrical machinery',\n",
       "   u'50531',\n",
       "   5),\n",
       "  (u'Repair and maintenance services of electrical machinery, apparatus and associated equipment',\n",
       "   u'50532',\n",
       "   5),\n",
       "  (u'Revolution counters', u'38561', 5),\n",
       "  (u'Special trade construction works other than roof works', u'45262', 5),\n",
       "  (u'Erection and related works of roof frames and coverings', u'45261', 5),\n",
       "  (u'Repair and maintenance services of weapons', u'50841', 5),\n",
       "  (u'Repair and maintenance services of weapon systems', u'50842', 5),\n",
       "  (u'Library furniture', u'39155', 5),\n",
       "  (u'Repair and maintenance services of watches', u'50431', 5),\n",
       "  (u'Repair and maintenance services of clocks', u'50432', 5),\n",
       "  (u'Repair and maintenance services of hotel equipment', u'50881', 5),\n",
       "  (u'Miscellaneous padlocks and locks', u'44521', 5),\n",
       "  (u'Repair and maintenance services of facsimile machines', u'50314', 5),\n",
       "  (u'Repair and maintenance services of telephone-answering machines',\n",
       "   u'50315',\n",
       "   5),\n",
       "  (u'Maintenance and repair of ticket-issuing machinery', u'50316', 5),\n",
       "  (u'Maintenance and repair of computer equipment', u'50312', 5),\n",
       "  (u'Maintenance and repair of reprographic machinery', u'50313', 5),\n",
       "  (u'Furnishing articles', u'39516', 5),\n",
       "  (u'Paramedical services', u'85142', 5),\n",
       "  (u'Services provided by medical personnel', u'85141', 5),\n",
       "  (u'Medical furniture', u'33192', 5),\n",
       "  (u'Repair and maintenance services of motorcycles', u'50115', 5),\n",
       "  (u'Repair and maintenance services of surgical equipment', u'50422', 5),\n",
       "  (u'Repair and maintenance services of personal computers', u'5032', 4),\n",
       "  (u'Heavy-duty motor vehicles', u'3414', 4),\n",
       "  (u'Construction materials', u'4411', 4),\n",
       "  (u'Software-related services', u'7226', 4),\n",
       "  (u'Repair and maintenance services of central heating', u'5072', 4),\n",
       "  (u'Repair and maintenance services of electrical and mechanical building installations',\n",
       "   u'5071',\n",
       "   4),\n",
       "  (u'Repair and maintenance of public conveniences', u'5076', 4),\n",
       "  (u'Repair and maintenance services of escalators', u'5074', 4),\n",
       "  (u'Repair and maintenance services of military aircrafts, missiles and spacecrafts',\n",
       "   u'5065',\n",
       "   4),\n",
       "  (u'Repair and maintenance services of warships', u'5064', 4),\n",
       "  (u'Repair and maintenance services of military electronic systems',\n",
       "   u'5066',\n",
       "   4),\n",
       "  (u'Repair and maintenance services of military vehicles', u'5063', 4),\n",
       "  (u'Repair and maintenance services of firearms and ammunition', u'5062', 4),\n",
       "  (u'Roof works and other special trade construction works', u'4526', 4),\n",
       "  (u'Repair and maintenance services of motor vehicles and associated equipment',\n",
       "   u'5011',\n",
       "   4),\n",
       "  (u'Services of commercial and industrial workers', u'9851', 4),\n",
       "  (u'Social work services', u'8531', 4),\n",
       "  (u'Repair and maintenance services of cooler groups', u'5073', 4),\n",
       "  (u'Pipeline, piping, pipes, casing, tubing and related items', u'4416', 4),\n",
       "  (u'Miscellaneous health services', u'8514', 4),\n",
       "  (u'Medical practice and related services', u'8512', 4),\n",
       "  (u'Road equipment', u'3492', 4),\n",
       "  (u'Outdoor sports equipment', u'3741', 4),\n",
       "  (u'Joinery and carpentry installation work', u'4542', 4),\n",
       "  (u'Furniture (incl. office furniture), furnishings, domestic appliances (excl. lighting) and cleaning products',\n",
       "   u'39',\n",
       "   4),\n",
       "  (u'Repair and maintenance services of hotel and restaurant equipment',\n",
       "   u'5088',\n",
       "   4),\n",
       "  (u'Repair services of garments and textiles', u'5083', 4),\n",
       "  (u'Repair services of leather personal goods', u'5082', 4),\n",
       "  (u'Repair services of jewellery', u'5081', 4),\n",
       "  (u'Repair and maintenance services of musical instruments', u'5086', 4),\n",
       "  (u'Transport equipment and auxiliary products to transportation', u'34', 4),\n",
       "  (u'Repair and maintenance services of audio-visual and optical equipment',\n",
       "   u'5034',\n",
       "   4),\n",
       "  (u'Construction works for plants, mining and manufacturing and for buildings relating to the oil and gas industry',\n",
       "   u'4525',\n",
       "   4),\n",
       "  (u'Maintenance services of telecommunications equipment', u'5033', 4),\n",
       "  (u'Textile household articles', u'3951', 4),\n",
       "  (u'Maintenance and repair of office machinery', u'5031', 4),\n",
       "  (u'Holiday centre and holiday home services', u'5524', 4),\n",
       "  (u'Repair, maintenance and associated services related to railways and other equipment',\n",
       "   u'5022',\n",
       "   4),\n",
       "  (u'Repair, maintenance and associated services related to marine and other equipment',\n",
       "   u'5024',\n",
       "   4),\n",
       "  (u'Production counters', u'3856', 4),\n",
       "  (u'Various office equipment and supplies', u'3019', 4),\n",
       "  (u'Specialty design services', u'7993', 4),\n",
       "  (u'Autopsy furniture', u'3393', 4),\n",
       "  (u'Repair and maintenance services of playground equipment', u'5087', 4),\n",
       "  (u'Locks, keys and hinges', u'4452', 4),\n",
       "  (u'Repair and maintenance services of security equipment', u'5061', 4),\n",
       "  (u'Repair and maintenance services of weapons and weapon systems',\n",
       "   u'5084',\n",
       "   4),\n",
       "  (u'Repair and maintenance services of pumps, valves, taps and metal containers',\n",
       "   u'5051',\n",
       "   4),\n",
       "  (u'Repair and maintenance services of machinery', u'5053', 4),\n",
       "  (u'Construction structures and materials; auxiliary products to construction (except electric apparatus)',\n",
       "   u'44',\n",
       "   4),\n",
       "  (u'Repair, maintenance and associated services related to aircraft and other equipment',\n",
       "   u'5021',\n",
       "   4),\n",
       "  (u'Repair, maintenance and associated services related to roads and other equipment',\n",
       "   u'5023',\n",
       "   4),\n",
       "  (u'Shop furniture', u'3917', 4),\n",
       "  (u'School furniture', u'3916', 4),\n",
       "  (u'Miscellaneous furniture and equipment', u'3915', 4),\n",
       "  (u'Office furniture', u'3913', 4),\n",
       "  (u'Miscellaneous medical devices and products', u'3319', 4),\n",
       "  (u'Laboratory furniture', u'3918', 4),\n",
       "  (u'Repair and maintenance services of precision equipment', u'5043', 4),\n",
       "  (u'Repair and maintenance services of medical and surgical equipment',\n",
       "   u'5042',\n",
       "   4),\n",
       "  (u'Motor vehicles', u'341', 3),\n",
       "  (u'Miscellaneous transport equipment and spare parts', u'349', 3),\n",
       "  (u'Medical equipments', u'331', 3),\n",
       "  (u'Sports goods and equipment', u'374', 3),\n",
       "  (u'Miscellaneous business and business-related services', u'799', 3),\n",
       "  (u'Office machinery, equipment and supplies except computers, printers and furniture',\n",
       "   u'301',\n",
       "   3),\n",
       "  (u'Construction materials and associated items', u'441', 3),\n",
       "  (u'Tools, locks, keys, hinges, fasteners, chain and springs', u'445', 3),\n",
       "  (u'Checking and testing apparatus', u'385', 3),\n",
       "  (u'Post-mortem and mortuary equipment and supplies', u'339', 3),\n",
       "  (u'Building completion work', u'454', 3),\n",
       "  (u'Health services', u'851', 3),\n",
       "  (u'Social work and related services', u'853', 3),\n",
       "  (u'Repair and maintenance services of building installations', u'507', 3),\n",
       "  (u'Repair and maintenance services for pumps, valves, taps and metal containers and machinery',\n",
       "   u'505',\n",
       "   3),\n",
       "  (u'Repair and maintenance services of security and defence materials',\n",
       "   u'506',\n",
       "   3),\n",
       "  (u'Private households with employed persons', u'985', 3),\n",
       "  (u'Repair, maintenance and associated services related to aircraft, railways, roads and marine equipment',\n",
       "   u'502',\n",
       "   3),\n",
       "  (u'Repair, maintenance and associated services related to personal computers, office equipment, telecommunications and audio-visual equipment',\n",
       "   u'503',\n",
       "   3),\n",
       "  (u'Software programming and consultancy services', u'722', 3),\n",
       "  (u'Repair, maintenance and associated services of vehicles and related equipment',\n",
       "   u'501',\n",
       "   3),\n",
       "  (u'Textile articles', u'395', 3),\n",
       "  (u'Repair and maintenance services', u'5', 3),\n",
       "  (u'Camping sites and other non-hotel accommodation', u'552', 3),\n",
       "  (u'Hotel, restaurant and retail trade services', u'55', 2),\n",
       "  (u'Health and social work services', u'85', 2),\n",
       "  (u'Musical instruments, sport goods, games, toys, handicraft, art materials and accessories',\n",
       "   u'37',\n",
       "   2),\n",
       "  (u'Business services: law, marketing, consulting, recruitment, printing and security',\n",
       "   u'79',\n",
       "   2),\n",
       "  (u'Laboratory, optical and precision equipments (excl. glasses)', u'38', 2),\n",
       "  (u'Other community, social and personal services', u'98', 2),\n",
       "  (u'IT services: consulting, software development, Internet and support',\n",
       "   u'72',\n",
       "   2),\n",
       "  (u'Medical equipments, pharmaceuticals and personal care products',\n",
       "   u'33',\n",
       "   2),\n",
       "  (u'Office and computing machinery, equipment and supplies except furniture and software packages',\n",
       "   u'3',\n",
       "   1)]]"
      ]
     },
     "execution_count": 19,
     "metadata": {},
     "output_type": "execute_result"
    }
   ],
   "source": [
    "SICtoCPV(95240)"
   ]
  },
  {
   "cell_type": "markdown",
   "metadata": {},
   "source": [
    "https://github.com/nathanpitman/sic-codes"
   ]
  }
 ],
 "metadata": {
  "kernelspec": {
   "display_name": "Python 2",
   "language": "python",
   "name": "python2"
  },
  "language_info": {
   "codemirror_mode": {
    "name": "ipython",
    "version": 2
   },
   "file_extension": ".py",
   "mimetype": "text/x-python",
   "name": "python",
   "nbconvert_exporter": "python",
   "pygments_lexer": "ipython2",
   "version": "2.7.10"
  }
 },
 "nbformat": 4,
 "nbformat_minor": 0
}
