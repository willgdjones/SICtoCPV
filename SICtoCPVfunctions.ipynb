{
 "cells": [
  {
   "cell_type": "markdown",
   "metadata": {},
   "source": [
    "# SIC to CPV converter"
   ]
  },
  {
   "cell_type": "markdown",
   "metadata": {},
   "source": [
    "This is best explained I think with an example.\n",
    "\n",
    "The Complete Leather Restoration Co. Limited is a company located in Leeds, and has a SIC code registered at companies house of http://companydb.uk/08724430-the-complete-leather-restoration-co-limited.\n",
    "\n",
    "Given a company with SIC codes 95240, which CPV codes best represent what this company does? And using this we can query contracts finder API to find relevant contracts in their local area.\n",
    "\n",
    "Here are the steps and results in turn which the function SICtoCPV executes:\n",
    "\n",
    "<b>Get the descriptive title of the SIC codes</b>\n",
    "\n",
    "`company_sic_title = lookup_sic_title(95240)`\n",
    "\n",
    ">\"Repair of furniture and home furnishings\"\n",
    "\n",
    "<b>Pull out the keywords from this title</b>\n",
    "\n",
    "`keywords = get_keywords(company_sic_title)`\n",
    "\n",
    ">`['repair', 'furniture', 'home', 'furnishings']`\n",
    "\n",
    "<b>Get all CPV codes whose title mention these keywords in the description. A set of CPVs is returned for each keyword, in this case 4.</b>\n",
    "\n",
    "`cpv_list = get_cpv_list(keywords)`\n",
    "\n",
    ">`[[u'37414300',  u'44113700',  u'50860000',  ...  u'50884000',  u'72267000',  u'72267200'], [u'30000000', u'30100000',  u'39161000',  ...  u'45421153',  u'50850000',  u'79934000'], [u'34144800',  u'38561110',  u'45215212',  ...  u'85312200',  u'98513310'], [u'39000000', u'39143110', u'39143113', u'39516100']]`\n",
    "\n",
    "<b>Get all the possible CPV prefixes from these sets, again return one prefix set per keyword, in this case 4.</b>\n",
    "\n",
    "`cpv_prefixes = get_cpv_prefixes(cpv_list)`\n",
    "\n",
    ">`[{u'37', ... u'722672'}, {u'3', ..., u'79934'}, {u'34', ..., u'9851331'}, {u'39', ..., u'395161'}]`\n",
    "\n",
    "<b>Find out how often these CPV frequencies appear in independent keyword sets. We can see some appear once, twice and even three times.</b>\n",
    "\n",
    "`intersection_frequencies = get_intersection_frequencies(cpv_prefixes)`\n",
    "\n",
    ">`{u'3': 1, u'301': 1, ... , u'391431': 2, ..., u'452': 3, ... , u'5085': 2, u'9851331': 1}`\n",
    "\n",
    "<b>Weight the importance of these CPV prefixes, multiply the frequency by how specific the CPV is.</b>\n",
    "\n",
    "`cpv_scores = get_cpv_scores(intersection_frequencies)`\n",
    "\n",
    ">`{u'3': 1, u'301': 3, ... , u'391431': 12, ..., u'452': 9, ... , u'5085': 8, u'9851331': 7}`\n",
    "\n",
    "<b>Sort these CPV is order of score</b>\n",
    "\n",
    "`top_cpvs = get_top_CPVs(cpv_scores)`\n",
    "\n",
    ">`[(u'504114', 12),\n",
    "(u'391431', 12),\n",
    "(u'45233', 10),\n",
    "(u'39143', 10),\n",
    "... ]`\n",
    "\n",
    "<b>Add the titles to these return SIC codes - they mostly seem pretty relevant.</b>\n",
    "\n",
    "`top_cpvs = add_cpv_titles(top_cpvs)`\n",
    "\n",
    ">`[(u'Repair and maintenance services of tachometers', u'504114', 12),\n",
    "(u'Bedroom furniture', u'391431', 12),\n",
    "(u'Construction, foundation and surface works for highways, roads', u'45233', 10),\n",
    "(u'Bedroom, dining room and living-room furniture', u'39143', 10),\n",
    "... ]`\n",
    "\n",
    "\n",
    "Thanks to https://github.com/nathanpitman/sic-codes for suppling the database of SIC code descriptions so I didn't have to crawl them from the raw HTML :). "
   ]
  },
  {
   "cell_type": "markdown",
   "metadata": {},
   "source": [
    "## Import modules"
   ]
  },
  {
   "cell_type": "code",
   "execution_count": 2,
   "metadata": {
    "collapsed": true
   },
   "outputs": [],
   "source": [
    "import json\n",
    "from datetime import datetime, timedelta\n",
    "from requests.auth import HTTPBasicAuth\n",
    "import requests\n",
    "import pandas as pd\n",
    "import nltk\n",
    "nltk.data.path = ['./nltk_data']\n",
    "import re\n",
    "import string\n",
    "import itertools\n",
    "import numpy as np"
   ]
  },
  {
   "cell_type": "markdown",
   "metadata": {},
   "source": [
    "## Helper functions"
   ]
  },
  {
   "cell_type": "markdown",
   "metadata": {},
   "source": [
    "### Pad out SIC codes"
   ]
  },
  {
   "cell_type": "markdown",
   "metadata": {},
   "source": [
    "Pad CPV prefixes out with zeros to be length 8."
   ]
  },
  {
   "cell_type": "code",
   "execution_count": 3,
   "metadata": {
    "collapsed": true
   },
   "outputs": [],
   "source": [
    "def pad(cpv):\n",
    "    if len(cpv) > 8:\n",
    "        raise Exception('CPV too long')\n",
    "    cpv += '0'* (8 - len(cpv))\n",
    "    return cpv\n",
    "    "
   ]
  },
  {
   "cell_type": "markdown",
   "metadata": {},
   "source": [
    "### Tokenize CPV descriptions"
   ]
  },
  {
   "cell_type": "markdown",
   "metadata": {},
   "source": [
    "Remove punctuation marks from CPV descriptions, and set to lowercase.\n",
    "\n",
    "`tokenize('Agricultural, farming, fishing, forestry and related products')`\n",
    "\n",
    "`-> agricultural farming fishing forestry and related products`\n",
    "\n"
   ]
  },
  {
   "cell_type": "code",
   "execution_count": 4,
   "metadata": {
    "collapsed": true
   },
   "outputs": [],
   "source": [
    "def tokenise(s):\n",
    "    exclude = set(string.punctuation)\n",
    "    regex = re.compile('[%s]' % re.escape(string.punctuation))\n",
    "    return re.sub(regex,\"\",s).lower()\n"
   ]
  },
  {
   "cell_type": "markdown",
   "metadata": {},
   "source": [
    "## Load CPV and SIC codes databases"
   ]
  },
  {
   "cell_type": "code",
   "execution_count": 5,
   "metadata": {
    "collapsed": false
   },
   "outputs": [],
   "source": [
    "cabinet_api_key='o0NNKWxzI6D_JvHlDYo9Pa1l05eqnXvPwaxtk8Nx'\n",
    "\n",
    "sic_codes = pd.read_csv('sic_codes.csv')\n",
    "cpv_codes = pd.read_excel('cpv_2008_ver_2013.xlsx')\n",
    "cpv_codes = cpv_codes[['CODE','EN']]\n",
    "cpv_codes['CODE'] = cpv_codes['CODE'].apply(lambda x: x.split('-')[0])\n",
    "sic_codes['tokenised_description'] = sic_codes['description'].apply(tokenise)\n",
    "\n"
   ]
  },
  {
   "cell_type": "markdown",
   "metadata": {},
   "source": [
    "## Core functions"
   ]
  },
  {
   "cell_type": "markdown",
   "metadata": {},
   "source": [
    "### Get keywords "
   ]
  },
  {
   "cell_type": "markdown",
   "metadata": {},
   "source": [
    "Get the keywords from a given SIC code title, pulling out all the different types of verbs, nouns and adjectives.\n",
    "\n",
    "`get_keywords('Repair of furniture and home furnishings') -> ['Repair', 'furniture', 'home', 'furnishings']`"
   ]
  },
  {
   "cell_type": "code",
   "execution_count": 6,
   "metadata": {
    "collapsed": true
   },
   "outputs": [],
   "source": [
    "def get_keywords(company_sic_title):\n",
    "    \"\"\"\n",
    "    Get the keywords from a SIC-title. Pulls out all types of nouns, verbs and adjectives, according to\n",
    "    the nltk UPENN tagset. [https://www.ling.upenn.edu/courses/Fall_2003/ling001/penn_treebank_pos.html]\n",
    "    \n",
    "    No stemming (e.g. repairing -> repair) as of yet, neither does it handle exclusions. e.g. (Growing of\n",
    "    vegtables EXCEPT rice).\n",
    "    \"\"\"\n",
    "    tagged = nltk.pos_tag(company_sic_title.lower().split(' '))\n",
    "    \n",
    "    return [x[0] for x in tagged if x[1] in ['VBG','VB','VBD','VBN','VBP','VBZ','NNS', 'NN','NNP','NNPS','NNS','JJ','JJR','JJS'] ]"
   ]
  },
  {
   "cell_type": "markdown",
   "metadata": {},
   "source": [
    "### Lookup SIC title"
   ]
  },
  {
   "cell_type": "markdown",
   "metadata": {},
   "source": [
    "Return the title description of a SIC codes, from the SIC code database\n",
    "\n",
    "`lookup_sic_title('95240') -> 'Repair of furniture and home furnishings'`"
   ]
  },
  {
   "cell_type": "code",
   "execution_count": 7,
   "metadata": {
    "collapsed": true
   },
   "outputs": [],
   "source": [
    "def lookup_sic_title(sic_code):\n",
    "    \"\"\"Lookup the title of a given SIC code from the SIC codes database\"\"\"\n",
    "    assert isinstance(sic_codes,pd.DataFrame)\n",
    "    if sic_code == '':\n",
    "        return None \n",
    "    int_sic_code = int(sic_code)\n",
    "    return list(sic_codes[sic_codes['code'] == int_sic_code]['description'])[0]\n"
   ]
  },
  {
   "cell_type": "markdown",
   "metadata": {},
   "source": [
    "### Get CPV list"
   ]
  },
  {
   "cell_type": "markdown",
   "metadata": {},
   "source": [
    "Get the CPVs hightlighted from a list of keywords. Returns a list of lists of CPV codes equal to the number of keywords.\n",
    "\n",
    "`get_cpvs(['repair', 'furniture', 'home', 'furnishings']) ->`\n",
    "\n",
    "`[[u'37414300',  u'44113700',  u'50860000',  ...  u'50884000',  u'72267000',  u'72267200'], [u'30000000', u'30100000',  u'39161000',  ...  u'45421153',  u'50850000',  u'79934000'], [u'34144800',  u'38561110',  u'45215212',  ...  u'85312200',  u'98513310'], [u'39000000', u'39143110', u'39143113', u'39516100']]`"
   ]
  },
  {
   "cell_type": "code",
   "execution_count": 8,
   "metadata": {
    "collapsed": true
   },
   "outputs": [],
   "source": [
    "### Get CPV codes\n",
    "def get_cpv_list(keywords):\n",
    "    \"\"\"\n",
    "    For a given set of keywords, return the sets of CPVs that are highlighted.\n",
    "    \"\"\"\n",
    "    tot = []\n",
    "    for kw in keywords:\n",
    "        #Get the CPVs highlighted from a given keyword.\n",
    "        kw_cpvs = list(cpv_codes[cpv_codes['EN'].apply(tokenise).apply(lambda x: kw in x)]['CODE'])        \n",
    "        tot.append(kw_cpvs)\n",
    "    return tot\n",
    "\n"
   ]
  },
  {
   "cell_type": "markdown",
   "metadata": {},
   "source": [
    "### Get CPV prefix sets"
   ]
  },
  {
   "cell_type": "markdown",
   "metadata": {
    "collapsed": true
   },
   "source": [
    "For list of CPVs, return all the unique prefixes of the CPVs.\n",
    "\n",
    "`create_cpv_sets([[u'44113700', u'44167200']]) -> [{u'44', u'441', u'4411', u'44113', u'441137', u'4416', u'44167', u'441672'}]`"
   ]
  },
  {
   "cell_type": "code",
   "execution_count": 9,
   "metadata": {
    "collapsed": false
   },
   "outputs": [],
   "source": [
    "def get_cpv_prefixes(cpv_list):\n",
    "    cpv_sets = []\n",
    "\n",
    "    for l in cpv_list:\n",
    "        cpvs = []\n",
    "        for c in l:\n",
    "            for i in range(2,9):\n",
    "                cpvs.append(c[0:i])\n",
    "        cpvs = [x.rstrip('0') for x in cpvs]\n",
    "        cpv_sets.append(set(cpvs))\n",
    "    return cpv_sets\n"
   ]
  },
  {
   "cell_type": "markdown",
   "metadata": {},
   "source": [
    "### Create intersection lists"
   ]
  },
  {
   "cell_type": "markdown",
   "metadata": {},
   "source": [
    "For a list of CPV prefix sets, get the frequencies of how often they appear in different cpv_sets.\n",
    "\n",
    "`get_intersection_frequencies([set(['37','375']), set(['37', '42'])]) -> {'37': 2, '375': 1, '42': 1}`"
   ]
  },
  {
   "cell_type": "code",
   "execution_count": 10,
   "metadata": {
    "collapsed": false
   },
   "outputs": [],
   "source": [
    "def get_intersection_frequencies(cpv_prefixes):\n",
    "    \n",
    "    intersection_lists = []\n",
    "    for s in range(1,len(cpv_prefixes)+1):\n",
    "        for i in itertools.combinations(range(0,len(cpv_prefixes)),s):\n",
    "            intersection_lists.append([i, list(set.intersection(*[cpv_prefixes[j] for j in i]))])\n",
    "    intersection_frequencies = {}\n",
    "\n",
    "    for l, interscts in intersection_lists:\n",
    "        for i in interscts:\n",
    "            if i in intersection_frequencies:\n",
    "                if len(l) > intersection_frequencies[i]:\n",
    "                    intersection_frequencies[i] = len(l)\n",
    "            else:\n",
    "                intersection_frequencies[i] = len(l)\n",
    "                \n",
    "    return intersection_frequencies"
   ]
  },
  {
   "cell_type": "markdown",
   "metadata": {},
   "source": [
    "### Score CPV codes"
   ]
  },
  {
   "cell_type": "markdown",
   "metadata": {},
   "source": [
    "Given the frequency of a CPV codes, combine this with it' specificity to give it a score."
   ]
  },
  {
   "cell_type": "code",
   "execution_count": 11,
   "metadata": {
    "collapsed": true
   },
   "outputs": [],
   "source": [
    "def get_cpv_scores(intersection_frequencies):\n",
    "    \n",
    "    cpv_scores = {}\n",
    "    for k,v in intersection_frequencies.items():\n",
    "        intersection_frequency = v\n",
    "        specificity = len(k)\n",
    "        cpv_scores[k] = scoring_heuristic(intersection_frequency, specificity)\n",
    "\n",
    "    return cpv_scores"
   ]
  },
  {
   "cell_type": "markdown",
   "metadata": {},
   "source": [
    "### Get top CPVs "
   ]
  },
  {
   "cell_type": "markdown",
   "metadata": {},
   "source": [
    "Return the list of CPVs ordered by their scores"
   ]
  },
  {
   "cell_type": "code",
   "execution_count": 12,
   "metadata": {
    "collapsed": true
   },
   "outputs": [],
   "source": [
    "def get_top_CPVs(cpv_scores):\n",
    "    top_cpvs = [ (k,v) for (k,v) in cpv_scores.items() ]\n",
    "    top_cpvs.sort(key=lambda x: x[1], reverse=True)\n",
    "    return top_cpvs\n"
   ]
  },
  {
   "cell_type": "markdown",
   "metadata": {},
   "source": [
    "### Scoring heuristic "
   ]
  },
  {
   "cell_type": "markdown",
   "metadata": {},
   "source": [
    "The scoring heurstic is the key component of this process. Given a cpv codes with a known intersection_frequency and specificity, what score should we give it? How important is it that it is specific, and how important is it that it is highlighted by multiple keywords? Right now I just multiply them together :o)."
   ]
  },
  {
   "cell_type": "code",
   "execution_count": 13,
   "metadata": {
    "collapsed": true
   },
   "outputs": [],
   "source": [
    "def scoring_heuristic(intersection_frequency, specificity):\n",
    "    return intersection_frequency * specificity\n",
    "    "
   ]
  },
  {
   "cell_type": "markdown",
   "metadata": {},
   "source": [
    "### Add CPV titles"
   ]
  },
  {
   "cell_type": "markdown",
   "metadata": {},
   "source": [
    "Add the titles of a list of CPV codes"
   ]
  },
  {
   "cell_type": "code",
   "execution_count": 14,
   "metadata": {
    "collapsed": false
   },
   "outputs": [],
   "source": [
    "def add_cpv_titles(top_cpvs):\n",
    "    \n",
    "    cpv_titles = [cpv_codes[cpv_codes['CODE'] == pad(cpv[0])]['EN'].values[0] for cpv in top_cpvs]\n",
    "    return [(cpv_titles[i],) + top_cpvs[i] for i in range(len(top_cpvs))]"
   ]
  },
  {
   "cell_type": "markdown",
   "metadata": {},
   "source": [
    "### SICtoCPV"
   ]
  },
  {
   "cell_type": "markdown",
   "metadata": {},
   "source": [
    "The main function to export. Takes in a SIC code, and outputs relevant CPV codes plus the titles."
   ]
  },
  {
   "cell_type": "code",
   "execution_count": 15,
   "metadata": {
    "collapsed": true
   },
   "outputs": [],
   "source": [
    "def SICtoCPV(sic_code):\n",
    "    \n",
    "    company_sic_title = lookup_sic_title(sic_code)\n",
    "\n",
    "    keywords = get_keywords(company_sic_title)\n",
    "\n",
    "    cpv_list = get_cpv_list(keywords)\n",
    "\n",
    "    cpv_prefixes = get_cpv_prefixes(cpv_list)\n",
    "\n",
    "    intersection_frequencies = get_intersection_frequencies(cpv_prefixes)\n",
    "\n",
    "    cpv_scores = get_cpv_scores(intersection_frequencies)\n",
    "\n",
    "    top_cpvs = get_top_CPVs(cpv_scores)\n",
    "\n",
    "    top_cpvs = add_cpv_titles(top_cpvs)\n",
    "    \n",
    "    return [(sic_code, company_sic_title), top_cpvs]"
   ]
  },
  {
   "cell_type": "markdown",
   "metadata": {},
   "source": [
    "https://github.com/nathanpitman/sic-codes"
   ]
  }
 ],
 "metadata": {
  "kernelspec": {
   "display_name": "Python 2",
   "language": "python",
   "name": "python2"
  },
  "language_info": {
   "codemirror_mode": {
    "name": "ipython",
    "version": 2
   },
   "file_extension": ".py",
   "mimetype": "text/x-python",
   "name": "python",
   "nbconvert_exporter": "python",
   "pygments_lexer": "ipython2",
   "version": "2.7.10"
  }
 },
 "nbformat": 4,
 "nbformat_minor": 0
}
